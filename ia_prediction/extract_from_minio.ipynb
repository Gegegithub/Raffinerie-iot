{
 "cells": [
  {
   "cell_type": "code",
   "execution_count": null,
   "id": "ad8a049f",
   "metadata": {},
   "outputs": [],
   "source": [
    "from minio import Minio\n",
    "import pandas as pd\n",
    "import json\n",
    "from io import BytesIO\n",
    "\n",
    "client = Minio(\n",
    "    \"localhost:9000\",\n",
    "    access_key=\"minio\",\n",
    "    secret_key=\"minio123\",\n",
    "    secure=False\n",
    ")\n"
   ]
  },
  {
   "cell_type": "code",
   "execution_count": 10,
   "id": "e126134b",
   "metadata": {},
   "outputs": [
    {
     "name": "stdout",
     "output_type": "stream",
     "text": [
      "Erreur avec raw/part-00000-a9a1d863-f1a3-4088-b31f-3f7a2ab5151b-c000.json : Expecting value: line 1 column 1 (char 0)\n"
     ]
    }
   ],
   "source": [
    "# Récupération des fichiers JSON dans le bucket\n",
    "objects = client.list_objects(\"raffinerie-raw\", prefix=\"raw/\", recursive=True)\n",
    "data = []\n",
    "\n",
    "for obj in objects:\n",
    "    name = obj.object_name\n",
    "    if \"_spark_metadata\" in name:\n",
    "        continue\n",
    "\n",
    "    try:\n",
    "        response = client.get_object(\"raffinerie-raw\", name)\n",
    "        content = response.read().decode(\"utf-8\")\n",
    "        for line in content.strip().split(\"\\n\"):\n",
    "            data.append(json.loads(line))\n",
    "    except Exception as e:\n",
    "        print(f\"Erreur avec {name} : {e}\")"
   ]
  },
  {
   "cell_type": "code",
   "execution_count": 11,
   "id": "a15d4920",
   "metadata": {},
   "outputs": [
    {
     "name": "stdout",
     "output_type": "stream",
     "text": [
      "✅ Nombre de mesures de température : 1084\n",
      "✅ Données de température sauvegardées dans donnees_temperature.csv\n"
     ]
    }
   ],
   "source": [
    "# Création DataFrame + filtrage température\n",
    "df = pd.DataFrame(data)\n",
    "df[\"timestamp\"] = pd.to_datetime(df[\"timestamp\"])\n",
    "df = df.sort_values(\"timestamp\")\n",
    "df_temp = df[df[\"type_capteur\"] == \"temperature\"].reset_index(drop=True)\n",
    "\n",
    "print(f\"✅ Nombre de mesures de température : {len(df_temp)}\")\n",
    "df_temp.to_csv(\"donnees_temperature.csv\", index=False)\n",
    "print(\"✅ Données de température sauvegardées dans donnees_temperature.csv\")"
   ]
  }
 ],
 "metadata": {
  "kernelspec": {
   "display_name": "Python (raffinerie)",
   "language": "python",
   "name": "raffinerie_venv"
  },
  "language_info": {
   "codemirror_mode": {
    "name": "ipython",
    "version": 3
   },
   "file_extension": ".py",
   "mimetype": "text/x-python",
   "name": "python",
   "nbconvert_exporter": "python",
   "pygments_lexer": "ipython3",
   "version": "3.13.0"
  }
 },
 "nbformat": 4,
 "nbformat_minor": 5
}
